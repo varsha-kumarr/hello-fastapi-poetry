{
 "cells": [
  {
   "cell_type": "code",
   "execution_count": 2,
   "id": "6717e120",
   "metadata": {},
   "outputs": [],
   "source": [
    "import sys\n",
    "import os\n",
    "\n",
    "src_path = os.path.abspath(\"../src\")\n",
    "if src_path not in sys.path:\n",
    "    sys.path.insert(0, src_path)"
   ]
  },
  {
   "cell_type": "code",
   "execution_count": 3,
   "id": "0644c3d1",
   "metadata": {},
   "outputs": [
    {
     "name": "stderr",
     "output_type": "stream",
     "text": [
      "/Users/varshakumar/Documents/iMutoInternship/hello-fastapi-poetry/.venv/lib/python3.11/site-packages/pydantic/_internal/_config.py:373: UserWarning: Valid config keys have changed in V2:\n",
      "* 'orm_mode' has been renamed to 'from_attributes'\n",
      "  warnings.warn(message, UserWarning)\n"
     ]
    }
   ],
   "source": [
    "from hello_api.api_client import APIClient\n",
    "from hello_api.notes.schema import NoteCreateUpdate\n",
    "import asyncio\n"
   ]
  },
  {
   "cell_type": "code",
   "execution_count": 4,
   "id": "ced9c494",
   "metadata": {},
   "outputs": [
    {
     "name": "stdout",
     "output_type": "stream",
     "text": [
      "✅ Created note: id=UUID('4258b7f1-d045-4b63-93ac-4a97c77b5e3a') title='Jupyter Test' body='This is from the notebook.' created_at=datetime.datetime(2025, 7, 25, 19, 21, 15, 208543) updated_at=datetime.datetime(2025, 7, 25, 19, 21, 15, 208543)\n",
      "✅ Fetched note: id=UUID('4258b7f1-d045-4b63-93ac-4a97c77b5e3a') title='Jupyter Test' body='This is from the notebook.' created_at=datetime.datetime(2025, 7, 25, 19, 21, 15, 208543) updated_at=datetime.datetime(2025, 7, 25, 19, 21, 15, 208543)\n",
      "✅ Notes list: 4 notes\n",
      "✅ Deleted note: 4258b7f1-d045-4b63-93ac-4a97c77b5e3a\n"
     ]
    }
   ],
   "source": [
    "import asyncio\n",
    "from hello_api.api_client import APIClient\n",
    "from hello_api.notes.schema import NoteCreateUpdate\n",
    "\n",
    "async def test_notes():\n",
    "    client = APIClient()\n",
    "\n",
    "    # 1. Create a note\n",
    "    new_note = NoteCreateUpdate(title=\"Jupyter Test\", body=\"This is from the notebook.\")\n",
    "    created_note = await client.upsert_note(new_note)\n",
    "    print(\"✅ Created note:\", created_note)\n",
    "\n",
    "    # 2. Get the created note\n",
    "    fetched_note = await client.get_note(created_note.id)\n",
    "    print(\"✅ Fetched note:\", fetched_note)\n",
    "\n",
    "    # 3. List all notes\n",
    "    notes_list = await client.list_notes()\n",
    "    print(\"✅ Notes list:\", notes_list.total, \"notes\")\n",
    "\n",
    "    # 4. Delete the note\n",
    "    await client.delete_note(created_note.id)\n",
    "    print(\"✅ Deleted note:\", created_note.id)\n",
    "\n",
    "    # 5. Close the client\n",
    "    await client.close()\n",
    "\n",
    "# Run it in Jupyter\n",
    "await test_notes()\n"
   ]
  }
 ],
 "metadata": {
  "kernelspec": {
   "display_name": "Python (myenv)",
   "language": "python",
   "name": "myenv"
  },
  "language_info": {
   "codemirror_mode": {
    "name": "ipython",
    "version": 3
   },
   "file_extension": ".py",
   "mimetype": "text/x-python",
   "name": "python",
   "nbconvert_exporter": "python",
   "pygments_lexer": "ipython3",
   "version": "3.11.4"
  }
 },
 "nbformat": 4,
 "nbformat_minor": 5
}
